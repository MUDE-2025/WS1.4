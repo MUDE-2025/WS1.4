{
 "cells": [
  {
   "cell_type": "markdown",
   "metadata": {
    "editable": true,
    "slideshow": {
     "slide_type": ""
    },
    "tags": []
   },
   "source": [
    "# Workshop 1.4 Fit happens\n",
    "\n",
    "*[CEGM1000 MUDE](http://mude.citg.tudelft.nl/)*\n",
    "\n",
    "*Written by: Max Ramgraber based on a previous version by Patricia Mares Nasarre and Robert Lanzafame*\n",
    "\n",
    "*Due: `<day of week>`, `<month>` `<day>`, `<year>`.*"
   ]
  },
  {
   "cell_type": "markdown",
   "metadata": {
    "editable": true,
    "slideshow": {
     "slide_type": ""
    },
    "tags": []
   },
   "source": [
    "Fitting probability distributions to data is an important task in any discipline of science and engineering, as these distributions can be used to derive quantitative statements about risks and frequencies of uncertain properties. Probabilistic tools can be applied to model this uncertainty. In this workshop, you will work with a dataset of your choosing estimate a distribution and evaluate the quality of your fit.\n",
    "\n",
    "**The goal of this project is:**\n",
    "1. Choose a reasonable distribution function for the concrete compressive strength analyzing the statistics of the observations.\n",
    "2. Fit the chosen distributions by moments.\n",
    "3. Assess the fit computing probabilities analytically.\n",
    "4. Assess the fit using goodness of fit techniques and computer code.\n",
    "\n",
    "The project will be divided into 3 parts: 1) data analysis, 2) pen and paper stuff (math practice!), and 3) programming."
   ]
  },
  {
   "cell_type": "code",
   "execution_count": null,
   "metadata": {
    "editable": true,
    "slideshow": {
     "slide_type": ""
    },
    "tags": []
   },
   "outputs": [],
   "source": [
    "# Let us load some required libraries \n",
    "import numpy as np                       # For math\n",
    "import matplotlib.pyplot as plt          # For plotting\n",
    "from matplotlib.gridspec import GridSpec # For plotting\n",
    "import pandas as pd                      # For file-wrangling\n",
    "from scipy import stats                  # For math\n",
    "from math import ceil, trunc             # For formatting\n",
    "\n",
    "# This is just cosmetic - it updates the font size for our plots\n",
    "plt.rcParams.update({'font.size': 14})"
   ]
  },
  {
   "cell_type": "markdown",
   "metadata": {},
   "source": [
    "**Please choose one of the following datasets:**\n",
    "1. Observations of the **compressive strength of concrete**. The compressive strength of concrete is key for the safety of infrastructures and buildings. However, a lot of boundary conditions influence the final resistance of the concrete, such the cement content, the environmental temperature or the age of the concrete. (You can read more about the dataset [here](https://www.kaggle.com/datasets/gauravduttakiit/compressive-strength-of-concrete))\n",
    "2. ERA5 predictions of the **hourly temperature at 2m height** during the summer months (June, July, August) from 2005 to 2025. ERA5 predictions are re-analysis data, which are observation-corrected weather model predictions. Like most climate data, they depend on chaotic global weather dynamics, which precise long-term predictions difficult. (The data set is extracted from [here](https://archive-api.open-meteo.com/v1/era5?latitude=52.00667&longitude=4.35556&start_date=2005-01-01&end_date=2024-12-31&hourly=temperature_2m&timezone=Europe%2FAmsterdam).)"
   ]
  },
  {
   "cell_type": "code",
   "execution_count": null,
   "metadata": {},
   "outputs": [],
   "source": [
    "import os\n",
    "from urllib.request import urlretrieve\n",
    "\n",
    "def findfile(fname):\n",
    "    if not os.path.isfile(fname):\n",
    "        print(f\"Downloading {fname}...\")\n",
    "        urlretrieve('http://files.mude.citg.tudelft.nl/'+fname, fname)\n",
    "\n",
    "findfile('dataset_concrete.csv')\n",
    "findfile('dataset_temperature.csv')"
   ]
  },
  {
   "cell_type": "code",
   "execution_count": 3,
   "metadata": {},
   "outputs": [
    {
     "ename": "AssertionError",
     "evalue": "File dataset_concrete.csv not found!",
     "output_type": "error",
     "traceback": [
      "\u001b[31m---------------------------------------------------------------------------\u001b[39m",
      "\u001b[31mAssertionError\u001b[39m                            Traceback (most recent call last)",
      "\u001b[36mCell\u001b[39m\u001b[36m \u001b[39m\u001b[32mIn[3]\u001b[39m\u001b[32m, line 4\u001b[39m\n\u001b[32m      1\u001b[39m \u001b[38;5;28;01mimport\u001b[39;00m\u001b[38;5;250m \u001b[39m\u001b[34;01mos\u001b[39;00m\n\u001b[32m      3\u001b[39m \u001b[38;5;66;03m# fail if files are not here\u001b[39;00m\n\u001b[32m----> \u001b[39m\u001b[32m4\u001b[39m \u001b[38;5;28;01massert\u001b[39;00m os.path.isfile(\u001b[33m'\u001b[39m\u001b[33mdataset_concrete.csv\u001b[39m\u001b[33m'\u001b[39m), \u001b[33m\"\u001b[39m\u001b[33mFile dataset_concrete.csv not found!\u001b[39m\u001b[33m\"\u001b[39m\n\u001b[32m      5\u001b[39m \u001b[38;5;28;01massert\u001b[39;00m os.path.isfile(\u001b[33m'\u001b[39m\u001b[33mdataset_temperature.csv\u001b[39m\u001b[33m'\u001b[39m), \u001b[33m\"\u001b[39m\u001b[33mFile dataset_temperature.csv not found!\u001b[39m\u001b[33m\"\u001b[39m\n",
      "\u001b[31mAssertionError\u001b[39m: File dataset_concrete.csv not found!"
     ]
    }
   ],
   "source": [
    "import os\n",
    "\n",
    "# fail if files are not here\n",
    "assert os.path.isfile('dataset_concrete.csv'), \"File dataset_concrete.csv not found!\"\n",
    "assert os.path.isfile('dataset_temperature.csv'), \"File dataset_temperature.csv not found!\"\n"
   ]
  },
  {
   "cell_type": "code",
   "execution_count": null,
   "metadata": {},
   "outputs": [],
   "source": []
  }
 ],
 "metadata": {
  "kernelspec": {
   "display_name": "mude-base",
   "language": "python",
   "name": "python3"
  },
  "language_info": {
   "codemirror_mode": {
    "name": "ipython",
    "version": 3
   },
   "file_extension": ".py",
   "mimetype": "text/x-python",
   "name": "python",
   "nbconvert_exporter": "python",
   "pygments_lexer": "ipython3",
   "version": "3.12.11"
  }
 },
 "nbformat": 4,
 "nbformat_minor": 4
}
