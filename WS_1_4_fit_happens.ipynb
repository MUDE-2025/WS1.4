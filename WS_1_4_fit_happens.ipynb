{
 "cells": [
  {
   "cell_type": "markdown",
   "metadata": {
    "editable": true,
    "slideshow": {
     "slide_type": ""
    },
    "tags": []
   },
   "source": [
    "# Workshop 1.4 Fit happens\n",
    "\n",
    "*[CEGM1000 MUDE](http://mude.citg.tudelft.nl/)*\n",
    "\n",
    "*Written by: Max Ramgraber based on a previous version by Patricia Mares Nasarre and Robert Lanzafame*\n",
    "\n",
    "*Due: `<day of week>`, `<month>` `<day>`, `<year>`.*"
   ]
  },
  {
   "cell_type": "markdown",
   "metadata": {
    "editable": true,
    "slideshow": {
     "slide_type": ""
    },
    "tags": []
   },
   "source": [
    "Fitting probability distributions to data is an important task in any discipline of science and engineering, as these distributions can be used to derive quantitative statements about risks and frequencies of uncertain properties. Probabilistic tools can be applied to model this uncertainty. In this workshop, you will work with a dataset of your choosing estimate a distribution and evaluate the quality of your fit.\n",
    "\n",
    "**The goal of this project is:**\n",
    "1. Choose a reasonable distribution function for the concrete compressive strength analyzing the statistics of the observations.\n",
    "2. Fit the chosen distributions by moments.\n",
    "3. Assess the fit computing probabilities analytically.\n",
    "4. Assess the fit using goodness of fit techniques and computer code.\n",
    "\n",
    "The project will be divided into 3 parts: 1) data analysis, 2) pen and paper stuff (math practice!), and 3) programming."
   ]
  },
  {
   "cell_type": "code",
   "execution_count": null,
   "metadata": {
    "editable": true,
    "slideshow": {
     "slide_type": ""
    },
    "tags": []
   },
   "outputs": [],
   "source": [
    "# Let us load some required libraries \n",
    "import numpy as np                       # For math\n",
    "import matplotlib.pyplot as plt          # For plotting\n",
    "from matplotlib.gridspec import GridSpec # For plotting\n",
    "import pandas as pd                      # For file-wrangling\n",
    "from scipy import stats                  # For math\n",
    "from math import ceil, trunc             # For formatting\n",
    "\n",
    "# This is just cosmetic - it updates the font size for our plots\n",
    "plt.rcParams.update({'font.size': 14})"
   ]
  },
  {
   "cell_type": "markdown",
   "metadata": {},
   "source": [
    "**Please choose one of the following datasets:**\n",
    "1. Observations of the **compressive strength of concrete**. The compressive strength of concrete is key for the safety of infrastructures and buildings. However, a lot of boundary conditions influence the final resistance of the concrete, such the cement content, the environmental temperature or the age of the concrete. (You can read more about the dataset [here](https://www.kaggle.com/datasets/gauravduttakiit/compressive-strength-of-concrete))\n",
    "2. ERA5 predictions of the **hourly temperature at 2m height** during the summer months (June, July, August) from 2005 to 2025. ERA5 predictions are re-analysis data, which are observation-corrected weather model predictions. Like most climate data, they depend on chaotic global weather dynamics, which precise long-term predictions difficult. (The data set is extracted from [here](https://archive-api.open-meteo.com/v1/era5?latitude=52.00667&longitude=4.35556&start_date=2005-01-01&end_date=2024-12-31&hourly=temperature_2m&timezone=Europe%2FAmsterdam).)"
   ]
  },
  {
   "cell_type": "code",
   "execution_count": null,
   "metadata": {},
   "outputs": [],
   "source": [
    "import os\n",
    "from urllib.request import urlretrieve\n",
    "\n",
    "def findfile(fname):\n",
    "    if not os.path.isfile(fname):\n",
    "        print(f\"Downloading {fname}...\")\n",
    "        urlretrieve('http://files.mude.citg.tudelft.nl/'+fname, fname)\n",
    "\n",
    "findfile('dataset_concrete.csv')\n",
    "findfile('dataset_temperature.csv')"
   ]
  },
  {
   "cell_type": "code",
   "execution_count": null,
   "metadata": {
    "editable": true,
    "slideshow": {
     "slide_type": ""
    },
    "tags": []
   },
   "outputs": [],
   "source": [
    "# Please choose one of the datasets below\n",
    "viable_datasets = ['concrete','temperature']\n",
    "dataset = 'concrete' # Choose one dataset from the list above\n",
    "\n",
    "# Automated check to see if the user selection is viable\n",
    "assert dataset in viable_datasets, \"Dataset must be in {}. You have selected {}.\".format(str(viable_datasets),dataset)\n",
    "\n",
    "# Load the data\n",
    "data = np.genfromtxt('dataset_{}.csv'.format(dataset), skip_header=1)\n",
    "\n",
    "# Set the axis labels for the dataset\n",
    "if dataset == \"concrete\":\n",
    "    label = \"Concrete compressive strength [MPa]\"\n",
    "    number_bins = 10 # Depending on the number of data points, we may want to use different bin numbers for the histogram\n",
    "elif dataset == \"temperature\":\n",
    "    label = \"Summer air temperature in Delft [°C]\"\n",
    "    number_bins = 20 # Depending on the number of data points, we may want to use different bin numbers for the histogram"
   ]
  },
  {
   "cell_type": "markdown",
   "metadata": {},
   "source": [
    "Now, let us clean and plot the data."
   ]
  },
  {
   "cell_type": "code",
   "execution_count": null,
   "metadata": {},
   "outputs": [],
   "source": [
    "# Clean the data by removing all NaN entries\n",
    "data = data[~np.isnan(data)]\n",
    "\n",
    "# Create a figure that shows the time series\n",
    "plt.figure(figsize=(10, 6))\n",
    "\n",
    "# GridSpec allows you to specify the size and relative positions of subplots, which can be very useful for plotting\n",
    "gs = GridSpec(\n",
    "    nrows = 1, # We want one row\n",
    "    ncols = 2, # We want two columns\n",
    "    width_ratios = [1,0.2]) # The second column should only be 20% as wide as the first column\n",
    "\n",
    "# In the first subplot, we plot the raw data series\n",
    "plt.subplot(gs[0,0])\n",
    "plt.plot(data,'ok')\n",
    "plt.xlabel(\"observation number\")\n",
    "plt.ylabel(label)\n",
    "ylims = plt.gca().get_ylim()\n",
    "\n",
    "print(len(data))\n",
    "\n",
    "# In the second subplot, we plot the histogram\n",
    "plt.subplot(gs[0,1])\n",
    "plt.hist(data, orientation='horizontal', color='lightblue', rwidth=0.9, bins = number_bins)\n",
    "plt.xlabel(\"frequency\")\n",
    "plt.gca().set_ylim(ylims)"
   ]
  },
  {
   "cell_type": "markdown",
   "metadata": {},
   "source": [
    "In the figure above, you can see all the observations of your chosen dataset. You can see that there is no clear pattern in the observations. Let's see how the statistics look like!"
   ]
  },
  {
   "cell_type": "code",
   "execution_count": null,
   "metadata": {},
   "outputs": [],
   "source": [
    "# Statistics\n",
    "df_describe = pd.DataFrame(data)\n",
    "df_describe.describe()"
   ]
  },
  {
   "cell_type": "markdown",
   "metadata": {},
   "source": [
    "<div style=\"background-color:#AABAB2; color: black; width:95%; vertical-align: middle; padding:15px; margin: 10px; border-radius: 10px\">\n",
    "<p>\n",
    "<b>Task 1.1:</b>   \n",
    "    Using <b>ONLY</b> the statistics calculated in the previous lines:\n",
    "    <li>Choose an appropriate distribution to model the data between the following: (1) Gumbel, (2) Uniform, and (3) Gaussian. </li>\n",
    "    <li>Justiy your choice.</li>\n",
    "</p>\n",
    "</div>"
   ]
  },
  {
   "cell_type": "markdown",
   "metadata": {},
   "source": [
    "_Your answer here._"
   ]
  },
  {
   "cell_type": "markdown",
   "metadata": {},
   "source": [
    "<div style=\"background-color:#FAE99E; color: black; width:95%; vertical-align: middle; padding:15px; margin: 10px; border-radius: 10px\">\n",
    "\n",
    "Solution for the **concrete dataset**:\n",
    "- Appropriate distribution: *Gumbel*.\n",
    "- Explanation: Uniform and Gaussian distributions are symmetric so they are not appropriate to model the observations. We can see the asymmetry by computing the difference between the minimum value and the P50% and between the maximum value and P50%:\n",
    "   - $d_{min, 50} = 33.87-2.33 = 31.54$\n",
    "   - $d_{50, max} = 82.60 - 33.87 = 48.72$\n",
    "- Since the $d_{min, 50} < d_{50, max}$, the Gumbel distribution is **right-tailed**.\n",
    "  \n",
    "----\n",
    "\n",
    "Solution for the **temperature dataset**:\n",
    "- Appropriate distribution: *Gumbel*.\n",
    "- Explanation: Uniform and Gaussian distributions are symmetric so they are not appropriate to model the observations. We can see the asymmetry by computing the difference between the minimum value and the P50% and between the maximum value and P50%:\n",
    "   - $d_{min, 50} = 17.0-6.5 = 11.5$\n",
    "   - $d_{50, max} = 36.7 - 17.0 = 19.3$\n",
    "- Since the $d_{min, 50} < d_{50, max}$, the Gumbel distribution is **right-tailed**.\n",
    "\n",
    "</div>"
   ]
  },
  {
   "cell_type": "markdown",
   "metadata": {},
   "source": [
    "## Part 2: Use pen and paper!"
   ]
  },
  {
   "cell_type": "markdown",
   "metadata": {},
   "source": [
    "Once you have selected the appropriate distribution, you are going to fit it by moments manually and check the fit by computing some probabilities analytically. Remember that you have all the information you need in the textbook. Do not use any computer code for this section, you have to do in with pen and paper. You can use the notebook as a calculator."
   ]
  },
  {
   "cell_type": "markdown",
   "metadata": {},
   "source": [
    "<div style=\"background-color:#AABAB2; color: black; width:95%; vertical-align: middle; padding:15px; margin: 10px; border-radius: 10px\">\n",
    "<p>\n",
    "<b>Task 2.1:</b>   \n",
    "Fit the selected distribution by moments.\n",
    "</p>\n",
    "</div>"
   ]
  },
  {
   "cell_type": "markdown",
   "metadata": {},
   "source": [
    "_Your answer here._"
   ]
  },
  {
   "cell_type": "markdown",
   "metadata": {},
   "source": [
    "<div style=\"background-color:#FAE99E; color: black; width:95%; vertical-align: middle; padding:15px; margin: 10px; border-radius: 10px\">\n",
    "    \n",
    "Solution for the **concrete dataset**:\n",
    "\n",
    "Fitting by moments a distribution implies equating the moments of the observations to those of the parametric distribution. Applying then the expressions of the mean and variance of the Gumbel distribution we obtain:\n",
    "\n",
    "$\n",
    "\\mathbb{V}ar(X) = \\cfrac{\\pi^2}{6} \\beta^2 \\to \\beta = \\sqrt{\\cfrac{6\\mathbb{V}ar(X)}{\\pi^2}}=\\sqrt{\\cfrac{6 \\cdot 16.797^2}{\\pi^2}}= 13.097\n",
    "$\n",
    "\n",
    "$\n",
    "\\mathbb{E}(X) = \\mu + \\gamma \\beta \\to \\mu = \\mathbb{E}(X) - \\gamma \\beta = 35.724 - 0.577 \\cdot 13.097 = 28.167\n",
    "$\n",
    "\n",
    "where we recall that $\\gamma \\approx 0.577$ is the Euler-Mascheroni constant.\n",
    "\n",
    "---------------\n",
    "\n",
    "Solution for the **temperature dataset**:\n",
    "\n",
    "Fitting by moments a distribution implies equating the moments of the observations to those of the parametric distribution. Applying then the expressions of the mean and variance of the Gumbel distribution we obtain:\n",
    "    \n",
    "$\n",
    "\\mathbb{V}ar(X) = \\cfrac{\\pi^2}{6} \\beta^2 \\to \\beta = \\sqrt{\\cfrac{6\\mathbb{V}ar(X)}{\\pi^2}}=\\sqrt{\\cfrac{6 \\cdot 3.733^2}{\\pi^2}}= 2.911\n",
    "$\n",
    "\n",
    "$\n",
    "\\mathbb{E}(X) = \\mu + \\gamma \\beta \\to \\mu = \\mathbb{E}(X) - \\gamma \\beta = 17.407 - 0.577 \\cdot 2.911 = 15.727\n",
    "$\n",
    "\n",
    "where we recall that $\\gamma \\approx 0.577$ is the Euler-Mascheroni constant.\n",
    "\n",
    "</div>"
   ]
  },
  {
   "cell_type": "markdown",
   "metadata": {},
   "source": [
    "We can now check the fit by computing manually some probabilities from the fitted distribution and comparing them with the empirical ones."
   ]
  },
  {
   "cell_type": "markdown",
   "metadata": {},
   "source": [
    "<div style=\"background-color:#AABAB2; color: black; width:95%; vertical-align: middle; padding:15px; margin: 10px; border-radius: 10px\">\n",
    "<p>\n",
    "<b>Task 2.2:</b>   \n",
    "Check the fit of the distribution:\n",
    "    <li>Use the values obtained from the statistical inspection: the min, 25%, 50%, 75% and max values. What are the non-exceedance probabilities (from the empirical distribution) that correspond to those values?</li>\n",
    "    <li>Compute the values of the random variable corresponding to those probabilities using the fitted distribution.</li>\n",
    "    <li>Compare the obtained values with the empirical ones and assess the fit.</li>\n",
    "</p>\n",
    "You can summarize you answers in the following table (report your values with 3-4 significant digits max, as needed).\n",
    "</div>\n"
   ]
  },
  {
   "cell_type": "markdown",
   "metadata": {},
   "source": [
    "|   |Minimum value|P25%|P50%|P75%|Maximum value|\n",
    "|---|-------------|----|----|----|-------------|\n",
    "|Non-exceedance probability [$-$]| | 0.25 | 0.50 | 0.75 |  |\n",
    "|Empirical quantiles | | | | | |\n",
    "|Predicted quantiles ||||||"
   ]
  },
  {
   "cell_type": "markdown",
   "metadata": {},
   "source": [
    "<div style=\"background-color:#FAE99E; color: black; width:95%; vertical-align: middle; padding:15px; margin: 10px; border-radius: 10px\">\n",
    "\n",
    "Solution for the **concrete dataset**:\n",
    "    \n",
    "|   |Minimum value|P25%|P50%|P75%|Maximum value|\n",
    "|---|-------------|----|----|----|-------------|\n",
    "|Non-exceedance probability [$-$]| 1/(772+1)| 0.25 | 0.5 | 0.75 | 772/(772+1) |\n",
    "|Empirical quantiles [MPa] |2.332|23.678|33.871|46.232|82.599|\n",
    "|Predicted quantiles [MPa] |3.353|23.889|32.967|44.485|115.257|\n",
    "\n",
    "Note: you can compute the values of the random variable using the inverse of the CDF of the Gumbel distribution:\n",
    "     \n",
    "$\n",
    "F(x) = e^{\\normalsize -e^{\\normalsize-\\cfrac{x-\\mu}{\\beta}}} \\to x = -\\beta \\ln\\left(-\\ln F\\left(x\\right)\\right) + \\mu\n",
    "$\n",
    "\n",
    "Compare and assess:\n",
    "\n",
    "The values close to the central moments (P25%, P50% and P75%) are well fitted. Regarding the left tail, the fit is reasonable, since the predicted value for the minimum observation is the same order of magnitude although not accurate. Finally, the right tail is not properly fitted since the estimation for the maximum observation is far from the actual value.   \n",
    "    \n",
    "----\n",
    "\n",
    "Solution for the **temperature dataset**:\n",
    "    \n",
    "|   |Minimum value|P25%|P50%|P75%|Maximum value|\n",
    "|---|-------------|----|----|----|-------------|\n",
    "|Non-exceedance probability [$-$]| 1/(44160+1)| 0.25 | 0.5 | 0.75 | 44160/(44160+1) |\n",
    "|Empirical quantiles [°C] |6.5|14.9|17.0|19.5|36.70|\n",
    "|Predicted quantiles [°C] |8.8|14.8|16.8|19.4|46.9|\n",
    "\n",
    "Note: you can compute the values of the random variable using the inverse of the CDF of the Gumbel distribution:\n",
    "     \n",
    "$\n",
    "F(x) = e^{\\normalsize -e^{\\normalsize-\\cfrac{x-\\mu}{\\beta}}} \\to x = -\\beta \\ln\\left(-\\ln F\\left(x\\right)\\right) + \\mu\n",
    "$\n",
    "\n",
    "Compare and assess:\n",
    "\n",
    "The values close to the central moments (P25%, P50% and P75%) are well fitted. Regarding the left tail, the fit is reasonable, since the predicted value for the minimum observation is the same order of magnitude although not accurate. Finally, the right tail is not properly fitted since the estimation for the maximum observation is far from the actual value.   \n",
    "\n",
    "</div>"
   ]
  },
  {
   "cell_type": "markdown",
   "metadata": {},
   "source": [
    "## Part 3: Let's do it with Python!"
   ]
  },
  {
   "cell_type": "markdown",
   "metadata": {},
   "source": [
    "Now, let's assess the performance using further goodness of fit metrics and see whether they are consistent with the previously done analysis."
   ]
  },
  {
   "cell_type": "markdown",
   "metadata": {},
   "source": [
    "<div style=\"background-color:#AABAB2; color: black; width:95%; vertical-align: middle; padding:15px; margin: 10px; border-radius: 10px\">\n",
    "<p>\n",
    "<b>Task 3.1:</b>   \n",
    "Prepare a function to compute the empirical cumulative distribution function.\n",
    "</p>\n",
    "</div>"
   ]
  },
  {
   "cell_type": "code",
   "execution_count": null,
   "metadata": {
    "editable": true,
    "slideshow": {
     "slide_type": ""
    },
    "tags": [
     "assignment"
    ]
   },
   "outputs": [],
   "source": [
    "# def ecdf(YOUR_CODE_HERE):\n",
    "#     YOUR_CODE_HERE # may be more than one line\n",
    "#     return YOUR_CODE_HERE"
   ]
  },
  {
   "cell_type": "code",
   "execution_count": null,
   "metadata": {
    "editable": true,
    "slideshow": {
     "slide_type": ""
    },
    "tags": [
     "solution"
    ]
   },
   "outputs": [],
   "source": [
    "# def ecdf(YOUR_CODE_HERE):\n",
    "#     YOUR_CODE_HERE # may be more than one line\n",
    "#     return YOUR_CODE_HERE\n",
    "\n",
    "# % solution_start\n",
    "# SOLUTION:\n",
    "def ecdf(observations):\n",
    "    x = np.sort(observations)\n",
    "    n = x.size\n",
    "    y = np.arange(1, n+1) / (n + 1)\n",
    "    return [y, x]\n",
    "# % solution_end"
   ]
  },
  {
   "cell_type": "markdown",
   "metadata": {
    "editable": true,
    "slideshow": {
     "slide_type": ""
    },
    "tags": []
   },
   "source": [
    "<div style=\"background-color:#AABAB2; color: black; width:95%; vertical-align: middle; padding:15px; margin: 10px; border-radius: 10px\">\n",
    "<p>\n",
    "<b>Task 3.2:</b>   \n",
    "Transform the fitted parameters for the selected distribution to loc-scale-shape.\n",
    "</p>\n",
    "</div>\n",
    "\n",
    "Hint: the distributions are in our online textbook, but it is also critical to make sure that the formulation in the book is identical to that of the Python package we are using. You can do this by finding the page of the relevant distribution in the [Scipy.stats](https://docs.scipy.org/doc/scipy/reference/stats.html) documentation."
   ]
  },
  {
   "cell_type": "markdown",
   "metadata": {},
   "source": [
    "_Your answer here._"
   ]
  },
  {
   "cell_type": "markdown",
   "metadata": {
    "editable": true,
    "slideshow": {
     "slide_type": ""
    },
    "tags": []
   },
   "source": [
    "<div style=\"background-color:#FAE99E; color: black; width:95%; vertical-align: middle; padding:15px; margin: 10px; border-radius: 10px\">\n",
    "\n",
    "Solution for the **concrete dataset**:\n",
    "\n",
    "The Gumbel distribution is already parameterized in terms of loc-scale-shape. You don't need to do anything!\n",
    "\n",
    "----\n",
    "\n",
    "Solution for the **temperature dataset**:\n",
    "\n",
    "The Gumbel distribution is already parameterized in terms of loc-scale-shape. You don't need to do anything!\n",
    "\n",
    "</div>"
   ]
  },
  {
   "cell_type": "markdown",
   "metadata": {},
   "source": [
    "<div style=\"background-color:#AABAB2; color: black; width:95%; vertical-align: middle; padding:15px; margin: 10px; border-radius: 10px\">\n",
    "<p>\n",
    "<b>Task 3.3:</b>   \n",
    "Assess the goodness of fit of the fitted distribution by:\n",
    "    <li> Visually comparing the empirical and fitted PDF.</li>\n",
    "    <li> Using the exceedance plot in log-scale.</li>\n",
    "    <li> Using the QQplot.</li>\n",
    "    <li> Interpret them. Do you reach a conclusion similar to that in the previous section?</li>\n",
    "</p>\n",
    "</div>\n",
    "\n",
    "Hint: Use [Scipy](https://docs.scipy.org/doc/scipy/reference/stats.html) built in functions (watch out with the parameters definition!)."
   ]
  },
  {
   "cell_type": "code",
   "execution_count": null,
   "metadata": {
    "editable": true,
    "slideshow": {
     "slide_type": ""
    },
    "tags": [
     "assignment"
    ]
   },
   "outputs": [],
   "source": [
    "# loc = YOUR_CODE_HERE\n",
    "# scale = YOUR_CODE_HERE\n",
    "\n",
    "# fig, axes = plt.subplots(1, 1, figsize=(10, 5))\n",
    "# axes.hist(YOUR_CODE_HERE,\n",
    "#           edgecolor='k', linewidth=0.2, color='cornflowerblue',\n",
    "#           label='Empirical PDF', density = True, bins = number_bins)\n",
    "# axes.plot(YOUR_CODE_HERE, YOUR_CODE_HERE,\n",
    "#           'k', linewidth=2, label='YOUR_DISTRIBUTION_NAME_HERE PDF')\n",
    "# axes.set_xlabel(label)\n",
    "# axes.set_title('PDF', fontsize=18)\n",
    "# axes.legend()"
   ]
  },
  {
   "cell_type": "code",
   "execution_count": null,
   "metadata": {
    "editable": true,
    "slideshow": {
     "slide_type": ""
    },
    "tags": [
     "solution"
    ]
   },
   "outputs": [],
   "source": [
    "# loc = YOUR_CODE_HERE\n",
    "# scale = YOUR_CODE_HERE\n",
    "\n",
    "# fig, axes = plt.subplots(1, 1, figsize=(10, 5))\n",
    "# axes.hist(YOUR_CODE_HERE,\n",
    "#           edgecolor='k', linewidth=0.2, color='cornflowerblue',\n",
    "#           label='Empirical PDF', density = True, bins = number_bins)\n",
    "# axes.plot(YOUR_CODE_HERE, YOUR_CODE_HERE,\n",
    "#           'k', linewidth=2, label='YOUR_DISTRIBUTION_NAME_HERE PDF')\n",
    "# axes.set_xlabel(label)\n",
    "# axes.set_title('PDF', fontsize=18)\n",
    "# axes.legend()\n",
    "\n",
    "# SOLUTION for the CONCRETE dataset\n",
    "if dataset == \"concrete\":\n",
    "    loc = 28.167\n",
    "    scale = 13.097\n",
    "    distribution = stats.gumbel_r.pdf(np.sort(data), loc, scale)\n",
    "    distribution_label = 'Gumbel PDF'\n",
    "    \n",
    "# SOLUTION for the TEMPERATURE dataset\n",
    "elif dataset == \"temperature\":\n",
    "    loc = 15.727\n",
    "    scale = 2.911\n",
    "    distribution = stats.gumbel_r.pdf(np.sort(data), loc, scale)\n",
    "    distribution_label = 'Gumbel PDF'\n",
    "\n",
    "fig, axes = plt.subplots(1, 1, figsize=(10, 5))\n",
    "axes.hist(data,\n",
    "          edgecolor='k', linewidth=0.2, color='cornflowerblue',\n",
    "          label='Empirical PDF', density = True, bins = number_bins)\n",
    "axes.plot(np.sort(data), distribution,\n",
    "          'k', linewidth=2, label=distribution_label)\n",
    "axes.set_xlabel(label)\n",
    "axes.set_title('PDF', fontsize=18)\n",
    "axes.legend()\n",
    "fig.savefig('pdf.svg')"
   ]
  },
  {
   "cell_type": "code",
   "execution_count": null,
   "metadata": {
    "editable": true,
    "slideshow": {
     "slide_type": ""
    },
    "tags": [
     "assignment"
    ]
   },
   "outputs": [],
   "source": [
    "# fig, axes = plt.subplots(1, 1, figsize=(10, 5))\n",
    "\n",
    "# axes.step(YOUR_CODE_HERE, YOUR_CODE_HERE, \n",
    "#           color='k', label='Empirical CDF')\n",
    "# axes.plot(YOUR_CODE_HERE, YOUR_CODE_HERE,\n",
    "#           color='cornflowerblue', label='YOUR_DISTRIBUTION_NAME_HERE CDF')\n",
    "# axes.set_xlabel(label)\n",
    "# axes.set_ylabel('${P[X > x]}$')\n",
    "# axes.set_title('Exceedance plot in log-scale', fontsize=18)\n",
    "# axes.set_yscale('log')\n",
    "# axes.legend()\n",
    "# axes.grid()"
   ]
  },
  {
   "cell_type": "code",
   "execution_count": null,
   "metadata": {
    "editable": true,
    "slideshow": {
     "slide_type": ""
    },
    "tags": [
     "solution"
    ]
   },
   "outputs": [],
   "source": [
    "# fig, axes = plt.subplots(1, 1, figsize=(10, 5))\n",
    "\n",
    "# axes.step(YOUR_CODE_HERE, YOUR_CODE_HERE, \n",
    "#           color='k', label='Empirical CDF')\n",
    "# axes.plot(YOUR_CODE_HERE, YOUR_CODE_HERE,\n",
    "#           color='cornflowerblue', label='YOUR_DISTRIBUTION_NAME_HERE CDF')\n",
    "# axes.set_xlabel(label)\n",
    "# axes.set_ylabel('${P[X > x]}$')\n",
    "# axes.set_title('Exceedance plot in log-scale', fontsize=18)\n",
    "# axes.set_yscale('log')\n",
    "# axes.legend()\n",
    "# axes.grid()\n",
    "\n",
    "# SOLUTION for the CONCRETE dataset\n",
    "if dataset == \"concrete\":\n",
    "    loc = 28.167\n",
    "    scale = 13.097\n",
    "    cdf = stats.gumbel_r.cdf(ecdf(data)[1], loc, scale)\n",
    "    distribution_label = 'Gumbel PDF'\n",
    "    \n",
    "# SOLUTION for the TEMPERATURE dataset\n",
    "elif dataset == \"temperature\":\n",
    "    loc = 15.727\n",
    "    scale = 2.911\n",
    "    cdf = stats.gumbel_r.cdf(ecdf(data)[1], loc, scale)\n",
    "    distribution_label = 'Gumbel PDF'\n",
    "\n",
    "# SOLUTION\n",
    "fig, axes = plt.subplots(1, 1, figsize=(10, 5))\n",
    "\n",
    "axes.step(ecdf(data)[1], 1-ecdf(data)[0], \n",
    "          color='k', label='Empirical CDF')\n",
    "axes.plot(ecdf(data)[1], 1-cdf,\n",
    "          color='cornflowerblue', label=distribution_label)\n",
    "axes.set_xlabel(label)\n",
    "axes.set_ylabel('${P[X > x]}$')\n",
    "axes.set_title('Exceedance plot in log-scale', fontsize=18)\n",
    "axes.set_yscale('log')\n",
    "axes.legend()\n",
    "axes.grid()\n",
    "fig.savefig('cdf.svg')"
   ]
  },
  {
   "cell_type": "code",
   "execution_count": null,
   "metadata": {
    "editable": true,
    "slideshow": {
     "slide_type": ""
    },
    "tags": [
     "assignment"
    ]
   },
   "outputs": [],
   "source": [
    "# fig, axes = plt.subplots(1, 1, figsize=(10, 5))\n",
    "\n",
    "# axes.scatter(YOUR_CODE_HERE, YOUR_CODE_HERE, \n",
    "#              color='cornflowerblue', label='Gumbel')\n",
    "# axes.set_xlabel('Observed '+label)\n",
    "# axes.set_ylabel('Estimated '+label)\n",
    "# axes.set_title('QQplot', fontsize=18)\n",
    "# xlims = axes.get_xlim()\n",
    "# ylims = axes.get_ylim()\n",
    "# axes.plot([np.min([xlims[0],ylims[0]]), np.max([xlims[1],ylims[1]])], [np.min([xlims[0],ylims[0]]), np.max([xlims[1],ylims[1]])], 'k')\n",
    "# axes.grid()"
   ]
  },
  {
   "cell_type": "code",
   "execution_count": null,
   "metadata": {
    "editable": true,
    "slideshow": {
     "slide_type": ""
    },
    "tags": [
     "solution"
    ]
   },
   "outputs": [],
   "source": [
    "# fig, axes = plt.subplots(1, 1, figsize=(10, 5))\n",
    "\n",
    "# axes.scatter(YOUR_CODE_HERE, YOUR_CODE_HERE, \n",
    "#              color='cornflowerblue', label='Gumbel')\n",
    "# axes.set_xlabel('Observed '+label)\n",
    "# axes.set_ylabel('Estimated '+label)\n",
    "# axes.set_title('QQplot', fontsize=18)\n",
    "# xlims = axes.get_xlim()\n",
    "# ylims = axes.get_ylim()\n",
    "# axes.plot([np.min([xlims[0],ylims[0]]), np.max([xlims[1],ylims[1]])], [np.min([xlims[0],ylims[0]]), np.max([xlims[1],ylims[1]])], 'k')\n",
    "# axes.grid()\n",
    "\n",
    "# SOLUTION for the CONCRETE dataset\n",
    "if dataset == \"concrete\":\n",
    "    loc = 28.167\n",
    "    scale = 13.097\n",
    "    inverse_cdf = stats.gumbel_r.ppf(ecdf(data)[0], loc, scale)\n",
    "    distribution_label = 'Gumbel PDF'\n",
    "    \n",
    "# SOLUTION for the TEMPERATURE dataset\n",
    "elif dataset == \"temperature\":\n",
    "    loc = 15.727\n",
    "    scale = 2.911\n",
    "    inverse_cdf = stats.gumbel_r.ppf(ecdf(data)[0], loc, scale)\n",
    "    distribution_label = 'Gumbel PDF'\n",
    "\n",
    "\n",
    "fig, axes = plt.subplots(1, 1, figsize=(5, 5))\n",
    "\n",
    "axes.scatter(ecdf(data)[1], inverse_cdf, \n",
    "             color='cornflowerblue', label=distribution_label)\n",
    "axes.set_xlabel('Observed '+label)\n",
    "axes.set_ylabel('Estimated '+label)\n",
    "axes.set_title('QQplot', fontsize=18)\n",
    "xlims = axes.get_xlim()\n",
    "ylims = axes.get_ylim()\n",
    "axes.plot([np.min([xlims[0],ylims[0]]), np.max([xlims[1],ylims[1]])], [np.min([xlims[0],ylims[0]]), np.max([xlims[1],ylims[1]])], 'k')\n",
    "axes.grid()\n",
    "fig.savefig('ppf.svg')"
   ]
  },
  {
   "cell_type": "markdown",
   "metadata": {
    "editable": true,
    "slideshow": {
     "slide_type": ""
    },
    "tags": []
   },
   "source": [
    "<div style=\"background-color:#FAE99E; color: black; width:95%; vertical-align: middle; padding:15px; margin: 10px; border-radius: 10px\">\n",
    "    \n",
    "Solution for the **concrete dataset**:\n",
    "- *Comparing the PDF*: The fitted distribution approximately follows the bell shape of the observations with a right tail, so Gumbel distribution seems an appropriate choice considering the shape of the PDF.\n",
    "- *Logscale plot*: This technique allows to visually assess the fitting of the parametric distribution to the tail of the empirical distribution. We can see that the tail of the empirical distribution is not well fitted. The estimated Gumbel distribution provides estimates of the random variable higher than the actual values. If we are concerned about compressive strength, we should be wary that the fitted distribution may be overly optimistic about the frequency of extraordinarily high compressive strength values.\n",
    "- *QQplot*: Again, we can see that the distribution performs well around the central moments and left tail, but the right tail is not properly fitted.\n",
    "    \n",
    "The conclusions reached with this analysis are similar to those obtained in the analytical part (pen and paper), since the techniques are equivalent. We can make use of the computer power to obtain more robust conclusions.\n",
    "\n",
    "----\n",
    "\n",
    "Solution for the **temperature dataset**:\n",
    "- *Comparing the PDF*: The fitted distribution approximately follows the bell shape of the observations with a right tail, so Gumbel distribution seems an appropriate choice considering the shape of the PDF.\n",
    "- *Logscale plot*: This technique allows to visually assess the fitting of the parametric distribution to the tail of the empirical distribution. We can see that the tail of the empirical distribution is not well fitted. Howvever, note that the y axis is logarithmic, The Gumbel distribution provides estimates of the random variable higher than the actual values in the right tail. It is difficult to discern the performance of the left tail in this figure. Here, if we consider high temperature extremes as dangerous, the estimated distribution is on the safe side: it predicts a *higher* probability of exceeding any given high temperature.\n",
    "- *QQplot*: Again, we can see that the distribution performs well around the central moments, but the left and right tails are not properly fitted. Specifically, the estimated distribution predicts higher temperatures in the extremes than the observed distribution.\n",
    "    \n",
    "The conclusions reached with this analysis are similar to those obtained in the analytical part (pen and paper), since the techniques are equivalent. We can make use of the computer power to obtain more robust conclusions.\n",
    "\n",
    "</div>"
   ]
  },
  {
   "cell_type": "markdown",
   "metadata": {
    "editable": true,
    "slideshow": {
     "slide_type": ""
    },
    "tags": []
   },
   "source": [
    "**End of notebook.**\n",
    "\n",
    "<div style=\"margin-top: 50px; padding-top: 20px; border-top: 1px solid #ccc;\">\n",
    "  <div style=\"display: flex; justify-content: flex-end; gap: 20px; align-items: center;\">\n",
    "    <a rel=\"MUDE\" href=\"http://mude.citg.tudelft.nl/\">\n",
    "      <img alt=\"MUDE\" style=\"width:100px; height:auto;\" src=\"https://gitlab.tudelft.nl/mude/public/-/raw/main/mude-logo/MUDE_Logo-small.png\" />\n",
    "    </a>\n",
    "    <a rel=\"TU Delft\" href=\"https://www.tudelft.nl/en/ceg\">\n",
    "      <img alt=\"TU Delft\" style=\"width:100px; height:auto;\" src=\"https://gitlab.tudelft.nl/mude/public/-/raw/main/tu-logo/TU_P1_full-color.png\" />\n",
    "    </a>\n",
    "    <a rel=\"license\" href=\"http://creativecommons.org/licenses/by/4.0/\">\n",
    "      <img alt=\"Creative Commons License\" style=\"width:88px; height:auto;\" src=\"https://i.creativecommons.org/l/by/4.0/88x31.png\" />\n",
    "    </a>\n",
    "  </div>\n",
    "  <div style=\"font-size: 75%; margin-top: 10px; text-align: right;\">\n",
    "    By <a rel=\"MUDE\" href=\"http://mude.citg.tudelft.nl/\">MUDE Team</a>\n",
    "    &copy; 2024 TU Delft. \n",
    "    <a rel=\"license\" href=\"http://creativecommons.org/licenses/by/4.0/\">CC BY 4.0</a>.\n",
    "    <a rel=\"Zenodo DOI\" href=\"https://doi.org/10.5281/zenodo.16782515\"><img style=\"width:auto; height:15; vertical-align:middle\" src=\"https://zenodo.org/badge/DOI/10.5281/zenodo.16782515.svg\" alt=\"DOI https://doi.org/10.5281/zenodo.16782515\"></a>\n",
    "  </div>\n",
    "</div>\n",
    "\n",
    "\n",
    "<!--tested with WS_2_8_solution.ipynb-->"
   ]
  }
 ],
 "metadata": {
  "kernelspec": {
   "display_name": "mude-base",
   "language": "python",
   "name": "python3"
  },
  "language_info": {
   "codemirror_mode": {
    "name": "ipython",
    "version": 3
   },
   "file_extension": ".py",
   "mimetype": "text/x-python",
   "name": "python",
   "nbconvert_exporter": "python",
   "pygments_lexer": "ipython3",
   "version": "3.12.11"
  }
 },
 "nbformat": 4,
 "nbformat_minor": 4
}
